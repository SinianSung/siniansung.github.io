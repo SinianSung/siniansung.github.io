{
 "cells": [
  {
   "cell_type": "markdown",
   "metadata": {},
   "source": [
    "# Was sind Codes?\n",
    "\n",
    "In diesem Abschnitt gehen wir genauer darauf ein, was Codes sind und wie sie in unserer Umwelt benutzt werden. Wir müssen dabei zwei grundsätzliche Unterscheidungen machen:\n",
    "- Codes welche zur Geheimhaltung benutzt werden\n",
    "- Codes die andere Zwecke haben\n",
    "\n",
    "Wir haben schon einige Codes/Codierungen gesehen. Vor allem den Binärcode "
   ]
  },
  {
   "cell_type": "code",
   "execution_count": 1,
   "metadata": {},
   "outputs": [
    {
     "data": {
      "text/plain": [
       "'0b11101010'"
      ]
     },
     "execution_count": 1,
     "metadata": {},
     "output_type": "execute_result"
    }
   ],
   "source": [
    "bin(234)"
   ]
  },
  {
   "cell_type": "code",
   "execution_count": null,
   "metadata": {},
   "outputs": [],
   "source": []
  }
 ],
 "metadata": {
  "kernelspec": {
   "display_name": "Python 3.9.13 64-bit (microsoft store)",
   "language": "python",
   "name": "python3"
  },
  "language_info": {
   "codemirror_mode": {
    "name": "ipython",
    "version": 3
   },
   "file_extension": ".py",
   "mimetype": "text/x-python",
   "name": "python",
   "nbconvert_exporter": "python",
   "pygments_lexer": "ipython3",
   "version": "3.9.13"
  },
  "orig_nbformat": 4,
  "vscode": {
   "interpreter": {
    "hash": "d94eaa8bc274af3ad1b6f9d6a9daea8caf12c0efa85e340994f726f8ef6b6528"
   }
  }
 },
 "nbformat": 4,
 "nbformat_minor": 2
}
