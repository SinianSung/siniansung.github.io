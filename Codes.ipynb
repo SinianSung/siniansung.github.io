{
 "cells": [
  {
   "cell_type": "markdown",
   "metadata": {},
   "source": [
    "# Was sind Codes?\n",
    "\n",
    "In diesem Abschnitt gehen wir genauer darauf ein, was Codes sind und wie sie in unserer Umwelt benutzt werden. Wir müssen dabei zwei grundsätzliche Unterscheidungen machen:\n",
    "- Codes welche zur Geheimhaltung benutzt werden\n",
    "- Codes die andere Zwecke haben\n",
    "\n"
   ]
  },
  {
   "cell_type": "code",
   "execution_count": null,
   "metadata": {},
   "outputs": [],
   "source": []
  }
 ],
 "metadata": {
  "kernelspec": {
   "display_name": "Python 3.9.13 64-bit (microsoft store)",
   "language": "python",
   "name": "python3"
  },
  "language_info": {
   "name": "python",
   "version": "3.9.13"
  },
  "orig_nbformat": 4,
  "vscode": {
   "interpreter": {
    "hash": "d94eaa8bc274af3ad1b6f9d6a9daea8caf12c0efa85e340994f726f8ef6b6528"
   }
  }
 },
 "nbformat": 4,
 "nbformat_minor": 2
}
